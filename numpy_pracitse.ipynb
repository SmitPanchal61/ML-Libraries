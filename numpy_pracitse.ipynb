{
  "nbformat": 4,
  "nbformat_minor": 0,
  "metadata": {
    "colab": {
      "provenance": []
    },
    "kernelspec": {
      "name": "python3",
      "display_name": "Python 3"
    },
    "language_info": {
      "name": "python"
    }
  },
  "cells": [
    {
      "cell_type": "markdown",
      "source": [
        "# **Numpy Practise**\n",
        "\n",
        "[Reference Youtube Video Link](https://youtu.be/9JUAPgtkKpI)"
      ],
      "metadata": {
        "id": "VfoRs-ek44kt"
      }
    },
    {
      "cell_type": "code",
      "execution_count": null,
      "metadata": {
        "id": "j6VIsFr_4v7D"
      },
      "outputs": [],
      "source": [
        "#importing numpy\n",
        "\n",
        "import numpy as np"
      ]
    },
    {
      "cell_type": "markdown",
      "source": [
        "## Numpy Arrays"
      ],
      "metadata": {
        "id": "u9MZOWoE5Xvq"
      }
    },
    {
      "cell_type": "code",
      "source": [
        "a = np.array([1,2,3])\n",
        "\n",
        "print(a)\n",
        "print(a.shape)\n",
        "print(a.dtype)\n",
        "print(a.ndim)\n",
        "print(a.size)\n",
        "print(a.itemsize)"
      ],
      "metadata": {
        "colab": {
          "base_uri": "https://localhost:8080/"
        },
        "id": "gJ_2r8jP5rRb",
        "outputId": "d5f4be17-30a7-4b03-e696-7977714045e8"
      },
      "execution_count": null,
      "outputs": [
        {
          "output_type": "stream",
          "name": "stdout",
          "text": [
            "[1 2 3]\n",
            "(3,)\n",
            "int64\n",
            "1\n",
            "3\n",
            "8\n"
          ]
        }
      ]
    },
    {
      "cell_type": "code",
      "source": [
        "b = a * np.array([10, 20 , 30])\n",
        "\n",
        "print(b)"
      ],
      "metadata": {
        "colab": {
          "base_uri": "https://localhost:8080/"
        },
        "id": "_cEWmRd46ER3",
        "outputId": "b3c19226-3f11-42f4-db95-8ac97c7d9eae"
      },
      "execution_count": null,
      "outputs": [
        {
          "output_type": "stream",
          "name": "stdout",
          "text": [
            "[10 40 90]\n"
          ]
        }
      ]
    },
    {
      "cell_type": "code",
      "source": [
        "print(b[0])\n",
        "\n",
        "b[1] = 50\n",
        "\n",
        "print(b)"
      ],
      "metadata": {
        "colab": {
          "base_uri": "https://localhost:8080/"
        },
        "id": "-0V4AWHP8SzI",
        "outputId": "90dc669a-ee36-4633-a73b-9fc816c010a2"
      },
      "execution_count": null,
      "outputs": [
        {
          "output_type": "stream",
          "name": "stdout",
          "text": [
            "10\n",
            "[10 50 90]\n"
          ]
        }
      ]
    },
    {
      "cell_type": "markdown",
      "source": [
        "## Python List VS Numpy Arrays\n",
        "\n",
        "python lists and numpy arrays look similar but are very different in their working such as, append() method works only on python lists and not on numpy arrays, mathematical operations also work differently when it comes to python lists and numpy arrays"
      ],
      "metadata": {
        "id": "tD0-eNV27vvQ"
      }
    },
    {
      "cell_type": "code",
      "source": [
        "l = [1, 2, 3]\n",
        "\n",
        "a = np.array([4 , 5 , 6])\n",
        "\n",
        "print(l)\n",
        "print(a)"
      ],
      "metadata": {
        "colab": {
          "base_uri": "https://localhost:8080/"
        },
        "id": "_3OJ1EoJ8QDQ",
        "outputId": "96467b06-adcf-448a-9cce-204805612d0d"
      },
      "execution_count": null,
      "outputs": [
        {
          "output_type": "stream",
          "name": "stdout",
          "text": [
            "[1, 2, 3]\n",
            "[4 5 6]\n"
          ]
        }
      ]
    },
    {
      "cell_type": "code",
      "source": [
        "l.append(5)\n",
        "\n",
        "a.append(5) # this will not work"
      ],
      "metadata": {
        "id": "0GpMWclm8lRI"
      },
      "execution_count": null,
      "outputs": []
    },
    {
      "cell_type": "code",
      "source": [
        "l = l + [5]\n",
        "\n",
        "a = a + [5]\n",
        "\n",
        "print(l)\n",
        "print(a)\n",
        "\n",
        "l = l * 5\n",
        "\n",
        "a = a * 5\n",
        "\n",
        "print(l)\n",
        "print(a)"
      ],
      "metadata": {
        "colab": {
          "base_uri": "https://localhost:8080/"
        },
        "id": "dXwAYUq48zY8",
        "outputId": "8ea1a10a-464d-4354-e6fe-7accb0b183d2"
      },
      "execution_count": null,
      "outputs": [
        {
          "output_type": "stream",
          "name": "stdout",
          "text": [
            "[1, 2, 3, 5, 5, 5, 5, 5]\n",
            "[24 25 26]\n",
            "[1, 2, 3, 5, 5, 5, 5, 5, 1, 2, 3, 5, 5, 5, 5, 5, 1, 2, 3, 5, 5, 5, 5, 5, 1, 2, 3, 5, 5, 5, 5, 5, 1, 2, 3, 5, 5, 5, 5, 5]\n",
            "[120 125 130]\n"
          ]
        }
      ]
    },
    {
      "cell_type": "code",
      "source": [
        "#square root and log functions can be run on a np array\n",
        "\n",
        "a = np.sqrt(a)\n",
        "print(a)\n",
        "\n",
        "b = np.array([4 , 8 , 12])\n",
        "b = np.log(b)\n",
        "print(b)"
      ],
      "metadata": {
        "colab": {
          "base_uri": "https://localhost:8080/"
        },
        "id": "OB9BxLQ_9M_-",
        "outputId": "ecdf29b7-7e0b-4139-e1be-bd0a351cc186"
      },
      "execution_count": null,
      "outputs": [
        {
          "output_type": "stream",
          "name": "stdout",
          "text": [
            "[10.95445115 11.18033989 11.40175425]\n",
            "[1.38629436 2.07944154 2.48490665]\n"
          ]
        }
      ]
    },
    {
      "cell_type": "markdown",
      "source": [
        "**Note:**\n",
        "\n",
        "*   We can convert numpy arrays into python lists using the list() method and vice versa using the np.array() method\n",
        "\n",
        "*   Mathematical calculations done using the numpy arrays is much much faster than with the python lists"
      ],
      "metadata": {
        "id": "0AIZLikzA_mL"
      }
    },
    {
      "cell_type": "markdown",
      "source": [
        "## Dot Product\n",
        "\n",
        "Dot product of two arrays is sum of the multiplication of the corresponding array elements"
      ],
      "metadata": {
        "id": "0VpQXtk1-rNA"
      }
    },
    {
      "cell_type": "code",
      "source": [
        "# dot product of basic python lists\n",
        "\n",
        "l1= [1,2,3]\n",
        "l2 = [4,5,6]\n",
        "\n",
        "dot =0 \n",
        "for i in range(len(l1)):\n",
        "  dot += l1[i] * l2[i]\n",
        "\n",
        "print(dot)"
      ],
      "metadata": {
        "colab": {
          "base_uri": "https://localhost:8080/"
        },
        "id": "Dgki35p1-8u9",
        "outputId": "992d8916-fa5c-4805-dced-3d698f002cac"
      },
      "execution_count": null,
      "outputs": [
        {
          "output_type": "stream",
          "name": "stdout",
          "text": [
            "32\n"
          ]
        }
      ]
    },
    {
      "cell_type": "code",
      "source": [
        "# dot product of np arrays\n",
        "\n",
        "a1= np.array([1,2,3])\n",
        "a2 = np.array([4,5,6])\n",
        "\n",
        "mul = a1 * a2\n",
        "dot = sum(mul)\n",
        "print(dot)"
      ],
      "metadata": {
        "colab": {
          "base_uri": "https://localhost:8080/"
        },
        "id": "GORnD6Zb_VFb",
        "outputId": "f2654e97-250e-4c7c-d761-99dbc552fc92"
      },
      "execution_count": null,
      "outputs": [
        {
          "output_type": "stream",
          "name": "stdout",
          "text": [
            "32\n"
          ]
        }
      ]
    },
    {
      "cell_type": "markdown",
      "source": [
        "The above are the manual and lengthy process that no one uses, below is the method that everyone uses"
      ],
      "metadata": {
        "id": "shvxNLfx_sXc"
      }
    },
    {
      "cell_type": "code",
      "source": [
        "dot = np.dot(a1, a2)\n",
        "print(dot)\n",
        "\n",
        "# or\n",
        "\n",
        "dot = a1 @ a2 # most commonly used \n",
        "print(dot)"
      ],
      "metadata": {
        "colab": {
          "base_uri": "https://localhost:8080/"
        },
        "id": "CgR_PeoS_2sq",
        "outputId": "9a895c6b-5c65-4e8e-8706-756f490117d8"
      },
      "execution_count": null,
      "outputs": [
        {
          "output_type": "stream",
          "name": "stdout",
          "text": [
            "32\n",
            "32\n"
          ]
        }
      ]
    },
    {
      "cell_type": "markdown",
      "source": [
        "## Multidimensional Arrays"
      ],
      "metadata": {
        "id": "_MpOZrvbCoMl"
      }
    },
    {
      "cell_type": "code",
      "source": [
        "# creating a 2-D array\n",
        "\n",
        "a2d = np.array([[1,2], [3,4]])\n",
        "print(a2d)\n",
        "print(a2d.shape)\n",
        "\n",
        "a3d = np.array([[1,2,3], [4,5,6]])\n",
        "print(a3d)\n",
        "print(a3d.shape)"
      ],
      "metadata": {
        "colab": {
          "base_uri": "https://localhost:8080/"
        },
        "id": "rqm-bdRbCtC_",
        "outputId": "d7b70f58-a119-46e8-aeba-abfd8825459c"
      },
      "execution_count": null,
      "outputs": [
        {
          "output_type": "stream",
          "name": "stdout",
          "text": [
            "[[1 2]\n",
            " [3 4]]\n",
            "(2, 2)\n",
            "[[1 2 3]\n",
            " [4 5 6]]\n",
            "(2, 3)\n"
          ]
        }
      ]
    },
    {
      "cell_type": "code",
      "source": [
        "# methods\n",
        "\n",
        "print(a2d.T)\n",
        "print(np.linalg.inv(a2d))\n",
        "print(np.linalg.det(a2d))\n",
        "# use cases of daigonal method\n",
        "print(np.diag(a2d)) # use case 1\n",
        "\n",
        "c = np.diag(a2d) # use case 2\n",
        "print(np.diag(c))"
      ],
      "metadata": {
        "colab": {
          "base_uri": "https://localhost:8080/"
        },
        "id": "nG70XOtMDXiS",
        "outputId": "caf78fa8-2f6b-4e08-c484-df791dec5186"
      },
      "execution_count": null,
      "outputs": [
        {
          "output_type": "stream",
          "name": "stdout",
          "text": [
            "[[1 3]\n",
            " [2 4]]\n",
            "[[-2.   1. ]\n",
            " [ 1.5 -0.5]]\n",
            "-2.0000000000000004\n",
            "[1 4]\n",
            "[[1 0]\n",
            " [0 4]]\n"
          ]
        }
      ]
    },
    {
      "cell_type": "markdown",
      "source": [
        "## Indexing and Slicing"
      ],
      "metadata": {
        "id": "FUwyoY47FuQY"
      }
    },
    {
      "cell_type": "code",
      "source": [
        "myArr = np.array([[1,2,3,4], [5,6,7,8]])\n",
        "\n",
        "print(myArr)\n",
        "\n",
        "print(myArr[0])\n",
        "\n",
        "print(myArr[0][0])\n",
        "\n",
        "print(myArr[0,0]) # same thing as above but shorter\n",
        "\n",
        "print(myArr[0, :]) # gives just one row\n",
        "\n",
        "print(myArr[:, 0]) # give just one column\n",
        "\n",
        "print(myArr[0, 1:3]) # row at indice 0 and columns from indices 1 to 2"
      ],
      "metadata": {
        "colab": {
          "base_uri": "https://localhost:8080/"
        },
        "id": "qICzBoa6F6P4",
        "outputId": "9d46a2fd-4a1a-49b9-b0a5-1ab77aa147cf"
      },
      "execution_count": null,
      "outputs": [
        {
          "output_type": "stream",
          "name": "stdout",
          "text": [
            "[[1 2 3 4]\n",
            " [5 6 7 8]]\n",
            "[1 2 3 4]\n",
            "1\n",
            "1\n",
            "[1 2 3 4]\n",
            "[1 5]\n",
            "[2 3]\n"
          ]
        }
      ]
    },
    {
      "cell_type": "code",
      "source": [
        "# boolean indexing\n",
        "\n",
        "myArr2 = np.array([[1,2], [3,4], [5,6]])\n",
        "print(myArr2)\n",
        "\n",
        "boolInd = myArr2 > 2 \n",
        "print(myArr2[boolInd]) # boolean indices , prints all the values > 2 of the array, but changes the shape of the array\n",
        "\n",
        "# if we want the shape to not change then we use the np.where() method\n",
        "myArr3 = np.where(myArr2>2, myArr2, -1)\n",
        "print(myArr3)"
      ],
      "metadata": {
        "colab": {
          "base_uri": "https://localhost:8080/"
        },
        "id": "28MZbguNIH-q",
        "outputId": "5f0ff670-e276-4d35-c02b-8186cee503fb"
      },
      "execution_count": null,
      "outputs": [
        {
          "output_type": "stream",
          "name": "stdout",
          "text": [
            "[[1 2]\n",
            " [3 4]\n",
            " [5 6]]\n",
            "[3 4 5 6]\n",
            "[[-1 -1]\n",
            " [ 3  4]\n",
            " [ 5  6]]\n"
          ]
        }
      ]
    },
    {
      "cell_type": "code",
      "source": [
        "# Fancy indexing\n",
        "\n",
        "arr1= np.array([10,20,33,40,50])\n",
        "\n",
        "arr2 = [1,2,4]\n",
        "\n",
        "print(arr1[arr2])"
      ],
      "metadata": {
        "colab": {
          "base_uri": "https://localhost:8080/"
        },
        "id": "Esyy-5jLJ1Sb",
        "outputId": "31e7367e-1b20-4b83-9988-bc6291daa5ba"
      },
      "execution_count": null,
      "outputs": [
        {
          "output_type": "stream",
          "name": "stdout",
          "text": [
            "[20 33 50]\n"
          ]
        }
      ]
    },
    {
      "cell_type": "code",
      "source": [
        "arr3 = np.argwhere(arr1%2==0).flatten() # collects indices of elements from arr1 which are even and makes it a 1D array using the flatten() method \n",
        "\n",
        "print(arr3)\n",
        "\n",
        "print(arr1[arr3])"
      ],
      "metadata": {
        "colab": {
          "base_uri": "https://localhost:8080/"
        },
        "id": "7vBe17QQKSZZ",
        "outputId": "e5ddf941-ba75-4e26-da98-f64ef6288873"
      },
      "execution_count": null,
      "outputs": [
        {
          "output_type": "stream",
          "name": "stdout",
          "text": [
            "[0 1 3 4]\n",
            "[10 20 40 50]\n"
          ]
        }
      ]
    },
    {
      "cell_type": "markdown",
      "source": [
        "## Reshaping Arrays"
      ],
      "metadata": {
        "id": "H1JGrnCrPJnt"
      }
    },
    {
      "cell_type": "code",
      "source": [
        "rArr = np.arange(1,7) # creates element from 1-6 in the array\n",
        "print(rArr)\n",
        "print(rArr.shape)\n",
        "\n",
        "resArr = rArr.reshape((2,3)) # reshapes the 1d arr in a 2x3 array, reshape() takes in a touple as an input parameter\n",
        "print(resArr)\n",
        "print(resArr.shape)"
      ],
      "metadata": {
        "colab": {
          "base_uri": "https://localhost:8080/"
        },
        "id": "DGkAWyY5PNUg",
        "outputId": "fd773a4c-1aca-449a-d5b5-2f8b8620acdd"
      },
      "execution_count": null,
      "outputs": [
        {
          "output_type": "stream",
          "name": "stdout",
          "text": [
            "[1 2 3 4 5 6]\n",
            "(6,)\n",
            "[[1 2 3]\n",
            " [4 5 6]]\n",
            "(2, 3)\n"
          ]
        }
      ]
    },
    {
      "cell_type": "code",
      "source": [
        "# creating a new axis\n",
        "\n",
        "nAxisArr = rArr[:, np.newaxis]\n",
        "print(nAxisArr)\n",
        "print(nAxisArr.shape)\n",
        "\n",
        "nAxisArr = rArr[np.newaxis, :]\n",
        "print(nAxisArr)\n",
        "print(nAxisArr.shape)"
      ],
      "metadata": {
        "colab": {
          "base_uri": "https://localhost:8080/"
        },
        "id": "SQ8eawchQSJQ",
        "outputId": "2620dab1-b181-4f02-9903-09134c038f91"
      },
      "execution_count": null,
      "outputs": [
        {
          "output_type": "stream",
          "name": "stdout",
          "text": [
            "[[1]\n",
            " [2]\n",
            " [3]\n",
            " [4]\n",
            " [5]\n",
            " [6]]\n",
            "(6, 1)\n",
            "[[1 2 3 4 5 6]]\n",
            "(1, 6)\n"
          ]
        }
      ]
    },
    {
      "cell_type": "markdown",
      "source": [
        "**Note**\n",
        "\n",
        "*   The above creation of a new axis method is generally used in machine learning where the training model requires the data to be in a certain format.\n",
        "*   It basically changes the dimensionality and the order of arrangements of the elements of the array."
      ],
      "metadata": {
        "id": "mkJU0gyVRZtp"
      }
    },
    {
      "cell_type": "markdown",
      "source": [
        "## Concatenation of Arrays"
      ],
      "metadata": {
        "id": "72oRnyLLTGO4"
      }
    },
    {
      "cell_type": "code",
      "source": [
        "cArr1 = np.array([[1,2], [3,4]])\n",
        "\n",
        "cArr2 = np.array([[5,6]])\n",
        "\n",
        "cArr3 = np.concatenate((cArr1, cArr2))\n",
        "\n",
        "print(cArr3)"
      ],
      "metadata": {
        "colab": {
          "base_uri": "https://localhost:8080/"
        },
        "id": "WIWb-pWSTK_G",
        "outputId": "11e88233-11b3-4662-8104-2f77c0ca6816"
      },
      "execution_count": null,
      "outputs": [
        {
          "output_type": "stream",
          "name": "stdout",
          "text": [
            "[[1 2]\n",
            " [3 4]\n",
            " [5 6]]\n"
          ]
        }
      ]
    },
    {
      "cell_type": "code",
      "source": [
        "# the .concatenate() function has an optional argument of axis which can take values as  0 , none , 1\n",
        "\n",
        "cArr3 = np.concatenate((cArr1, cArr2), axis=0) # appends it to row -> 0 is the default value of axis\n",
        "print(cArr3)\n",
        "\n",
        "cArr3 = np.concatenate((cArr1, cArr2), axis=None) # arranges elements to a 1D array\n",
        "print(cArr3)\n",
        "\n",
        "cArr3 = np.concatenate((cArr1, cArr2.T), axis=1) # arranges it to a column , since here the dimensions must match therefore we take transpose of the 2nd array thus avoiding error\n",
        "print(cArr3)"
      ],
      "metadata": {
        "colab": {
          "base_uri": "https://localhost:8080/"
        },
        "id": "gx2HDG80T9BN",
        "outputId": "a60bccb4-45c8-4dc3-ba15-97ae4223cb77"
      },
      "execution_count": null,
      "outputs": [
        {
          "output_type": "stream",
          "name": "stdout",
          "text": [
            "[[1 2]\n",
            " [3 4]\n",
            " [5 6]]\n",
            "[1 2 3 4 5 6]\n",
            "[[1 2 5]\n",
            " [3 4 6]]\n"
          ]
        }
      ]
    },
    {
      "cell_type": "code",
      "source": [
        "# hstack, vstack\n",
        "\n",
        "stackArr1 = np.array([1,2,3,4])\n",
        "stackArr2 = np.array([4,5,6,7])\n",
        "\n",
        "stackArr3 = np.hstack((stackArr1, stackArr2)) # stacks horizontally\n",
        "print(stackArr3)\n",
        "\n",
        "stackArr3 = np.vstack((stackArr1, stackArr2)) # stacks vertically\n",
        "print(stackArr3)"
      ],
      "metadata": {
        "colab": {
          "base_uri": "https://localhost:8080/"
        },
        "id": "kr7igxScVGqD",
        "outputId": "0d861ca0-41db-4802-d407-262b629383d0"
      },
      "execution_count": null,
      "outputs": [
        {
          "output_type": "stream",
          "name": "stdout",
          "text": [
            "[1 2 3 4 4 5 6 7]\n",
            "[[1 2 3 4]\n",
            " [4 5 6 7]]\n"
          ]
        }
      ]
    },
    {
      "cell_type": "markdown",
      "source": [
        "## Some Data Science Functions"
      ],
      "metadata": {
        "id": "EX_hEasXXHDn"
      }
    },
    {
      "cell_type": "code",
      "source": [
        "bigArr = np.array([[1,2,3,4,5,6,7,8,9,10], [11,12,13,14,15,16,17,18,19,20]])\n",
        "\n",
        "# all these functions also have a optional parameter of axis with default as None\n",
        "print(bigArr.sum(axis=None))\n",
        "\n",
        "print(bigArr.mean(axis=0))\n",
        "\n",
        "print(bigArr.var(axis=1)) # variance\n",
        "\n",
        "print(bigArr.std()) # standard deviation\n",
        "\n",
        "print(bigArr.min())\n",
        "\n",
        "print(bigArr.max())"
      ],
      "metadata": {
        "colab": {
          "base_uri": "https://localhost:8080/"
        },
        "id": "THUvwO3AXMI6",
        "outputId": "87fc1106-4fef-4777-a979-bb9659bea819"
      },
      "execution_count": null,
      "outputs": [
        {
          "output_type": "stream",
          "name": "stdout",
          "text": [
            "210\n",
            "[ 6.  7.  8.  9. 10. 11. 12. 13. 14. 15.]\n",
            "[8.25 8.25]\n",
            "5.766281297335398\n",
            "1\n",
            "20\n"
          ]
        }
      ]
    },
    {
      "cell_type": "markdown",
      "source": [
        "## Copying Arrays"
      ],
      "metadata": {
        "id": "n4jYkynQZCZ6"
      }
    },
    {
      "cell_type": "code",
      "source": [
        "# normal method ( changes the original array as well )\n",
        "\n",
        "a = np.array([1,2,3])\n",
        "b = a\n",
        "b[0] = 200\n",
        "print(b)\n",
        "print(a)"
      ],
      "metadata": {
        "colab": {
          "base_uri": "https://localhost:8080/"
        },
        "id": "IhSq4heIZGOC",
        "outputId": "fb7f9bcc-d474-4786-ebe6-0790aba03ac0"
      },
      "execution_count": null,
      "outputs": [
        {
          "output_type": "stream",
          "name": "stdout",
          "text": [
            "[200   2   3]\n",
            "[200   2   3]\n"
          ]
        }
      ]
    },
    {
      "cell_type": "code",
      "source": [
        "# using .copy() method ( recommended )\n",
        "\n",
        "a = np.array([1,2,3])\n",
        "b = a.copy()\n",
        "b[0] = 200\n",
        "print(b)\n",
        "print(a)"
      ],
      "metadata": {
        "colab": {
          "base_uri": "https://localhost:8080/"
        },
        "id": "gFUGMbZUZb7k",
        "outputId": "493d0d7e-6e26-438d-b7f7-90be1e9f2bd4"
      },
      "execution_count": null,
      "outputs": [
        {
          "output_type": "stream",
          "name": "stdout",
          "text": [
            "[200   2   3]\n",
            "[1 2 3]\n"
          ]
        }
      ]
    },
    {
      "cell_type": "markdown",
      "source": [
        "## Generating Arrays"
      ],
      "metadata": {
        "id": "Vg-o_t3DaoOt"
      }
    },
    {
      "cell_type": "code",
      "source": [
        "zeros = np.zeros((2,3))\n",
        "print(zeros)\n",
        "\n",
        "ones = np.ones((2,3))\n",
        "print(ones)\n",
        "\n",
        "custom = np.full((2,3), 6.0) # (size, custom number value)\n",
        "print(custom)\n",
        "\n",
        "idt = np.eye(3) # (size of identity matrix)\n",
        "print(idt)\n",
        "\n",
        "arng = np.arange(20)\n",
        "print(arng)\n",
        "\n",
        "custom2 = np.linspace(0,10,5) # (start, stop, no. of elements in the array)\n",
        "print(custom2)"
      ],
      "metadata": {
        "colab": {
          "base_uri": "https://localhost:8080/"
        },
        "id": "-onFJ3diarjS",
        "outputId": "31751c18-bcb0-4760-e45e-9d1045c34ea6"
      },
      "execution_count": null,
      "outputs": [
        {
          "output_type": "stream",
          "name": "stdout",
          "text": [
            "[[0. 0. 0.]\n",
            " [0. 0. 0.]]\n",
            "[[1. 1. 1.]\n",
            " [1. 1. 1.]]\n",
            "[[6. 6. 6.]\n",
            " [6. 6. 6.]]\n",
            "[[1. 0. 0.]\n",
            " [0. 1. 0.]\n",
            " [0. 0. 1.]]\n",
            "[ 0  1  2  3  4  5  6  7  8  9 10 11 12 13 14 15 16 17 18 19]\n",
            "[ 0.   2.5  5.   7.5 10. ]\n"
          ]
        }
      ]
    },
    {
      "cell_type": "code",
      "source": [
        "# generating array with random elements\n",
        "\n",
        "a = np. random.random((3,2)) # 0-1\n",
        "print(a)\n",
        "\n",
        "a = np. random.randn(10) # normal/Gaussian - mean=0 and var=1\n",
        "print(a)\n",
        "print(a.mean(), a.var())\n",
        "\n",
        "a = np. random.randint(2,10,size=(3,3)) # (start(default=0), stop(excluded) , size)\n",
        "print(a)\n",
        "\n",
        "# .choice used with integer\n",
        "a = np. random.choice(5, size=10)\n",
        "print(a)\n",
        "\n",
        "# .choice used with a list\n",
        "a = np. random.choice([-8, -7,-6], size=10)\n",
        "print(a)"
      ],
      "metadata": {
        "colab": {
          "base_uri": "https://localhost:8080/"
        },
        "id": "QR0Aw7V7nVIS",
        "outputId": "7d58ec80-5925-405c-92ed-2e9d44102b24"
      },
      "execution_count": null,
      "outputs": [
        {
          "output_type": "stream",
          "name": "stdout",
          "text": [
            "[[0.6915378  0.81528132]\n",
            " [0.74730171 0.44299375]\n",
            " [0.0425214  0.44675823]]\n",
            "[ 0.232362    0.06402112 -1.03883467  1.69932738  1.49256731  0.7677358\n",
            "  0.48997492 -0.65378984  1.86073192  1.17925893]\n",
            "0.6093354861034294 0.864975137461953\n",
            "[[8 4 7]\n",
            " [2 2 2]\n",
            " [5 8 6]]\n",
            "[1 0 2 3 4 0 3 0 3 1]\n",
            "[-8 -7 -6 -6 -6 -6 -6 -8 -8 -7]\n"
          ]
        }
      ]
    },
    {
      "cell_type": "markdown",
      "source": [
        "## Linear Algebra"
      ],
      "metadata": {
        "id": "HT91EXVspQwz"
      }
    },
    {
      "cell_type": "code",
      "source": [
        "# finding eigen values and vectors of a matrix\n",
        "\n",
        "a = np.array([[1,2], [3,4]])\n",
        "\n",
        "eigenValues, eigenVectors = np.linalg.eig(a)\n",
        "\n",
        "print(eigenValues)\n",
        "print(eigenVectors)"
      ],
      "metadata": {
        "colab": {
          "base_uri": "https://localhost:8080/"
        },
        "id": "rDzzvlwqpUTD",
        "outputId": "7290da25-dea9-44cd-dbdb-d7b3349e3fbf"
      },
      "execution_count": null,
      "outputs": [
        {
          "output_type": "stream",
          "name": "stdout",
          "text": [
            "[-0.37228132  5.37228132]\n",
            "[[-0.82456484 -0.41597356]\n",
            " [ 0.56576746 -0.90937671]]\n"
          ]
        }
      ]
    },
    {
      "cell_type": "code",
      "source": [
        "#e_vec * e_val = A * e_vec <- formula to check correctness of eigen vector and values\n",
        "\n",
        "b = eigenVectors[:,0] * eigenValues[0]\n",
        "print(b)\n",
        "\n",
        "c = a @ eigenVectors[:,0] # dot product using @\n",
        "print(b)\n",
        "\n",
        "#print(b==C)\n",
        "print(np.allclose(b, c)) # correct method to compare two arrays -> .allclose()"
      ],
      "metadata": {
        "colab": {
          "base_uri": "https://localhost:8080/"
        },
        "id": "LkjRQg7npznb",
        "outputId": "c8e45935-a674-45da-84e5-5e1675b0da63"
      },
      "execution_count": null,
      "outputs": [
        {
          "output_type": "stream",
          "name": "stdout",
          "text": [
            "[ 0.30697009 -0.21062466]\n",
            "[ 0.30697009 -0.21062466]\n",
            "True\n"
          ]
        }
      ]
    },
    {
      "cell_type": "markdown",
      "source": [
        "**SOLVING LINEAR SYSTEMS**\n",
        "\n",
        "**Q:** The admission fee at a small fair is 1.50 Rs for children and 4.00 Rs for adults. On a certain day, 2200 people enter the fair and $5050 is collected. How many children and how many adults attended?\n",
        "\n",
        "-> 2 Unknowns / 2 Equations\n",
        "\n",
        "x₁ + x₂ = = 2200\n",
        "\n",
        "1.5x₁ +4.0x₂ = 5050\n",
        "\n",
        "![Screenshot_20230121_074655.png](data:image/png;base64,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)"
      ],
      "metadata": {
        "id": "dlBWBHFuriPT"
      }
    },
    {
      "cell_type": "code",
      "source": [
        "# manual way\n",
        "A = np.array([[1,1], [1.5, 4.0]])\n",
        "b = np.array([2200, 5050])\n",
        "x = np.linalg.inv(A) @ b\n",
        "print(x)\n",
        "\n",
        "# using .linalg.solve() (recommended)\n",
        "x = np.linalg.solve(A, b)\n",
        "print(x)"
      ],
      "metadata": {
        "colab": {
          "base_uri": "https://localhost:8080/"
        },
        "id": "SPgJJYqmsgtc",
        "outputId": "a3ae10d6-e83d-49e5-c1a5-9bfa618ced8a"
      },
      "execution_count": null,
      "outputs": [
        {
          "output_type": "stream",
          "name": "stdout",
          "text": [
            "[1500.  700.]\n",
            "[1500.  700.]\n"
          ]
        }
      ]
    },
    {
      "cell_type": "markdown",
      "source": [
        "## Loading Data"
      ],
      "metadata": {
        "id": "9LqVdenltdl5"
      }
    },
    {
      "cell_type": "code",
      "source": [
        "# np.loadtxt, np.genfromtxt\n",
        "data = np.loadtxt('spambase.csv', delimiter=\",\", dtype=np.float32)\n",
        "print(data.shape)\n",
        "\n",
        "data = np.genfromtxt('spambase.csv', delimiter=\",\", dtype=np.float32)\n",
        "print(data.shape)"
      ],
      "metadata": {
        "id": "UAamwDUCth3r"
      },
      "execution_count": null,
      "outputs": []
    }
  ]
}